{
 "cells": [
  {
   "cell_type": "code",
   "execution_count": 1,
   "metadata": {},
   "outputs": [],
   "source": [
    "from msas_pytorch import msas\n",
    "import torch\n",
    "from scipy.spatial.distance import euclidean"
   ]
  },
  {
   "cell_type": "code",
   "execution_count": 2,
   "metadata": {},
   "outputs": [],
   "source": [
    "# let's define some statistics functions\n",
    "\n",
    "statistics_functions = [torch.mean, torch.std, torch.median, torch.max, torch.min]"
   ]
  },
  {
   "cell_type": "code",
   "execution_count": 3,
   "metadata": {},
   "outputs": [],
   "source": [
    "# and generated with random numbers simulated real and synthetic data\n",
    "\n",
    "# both temporal and static, with both discrete and continuous features\n",
    "# sample size = 100, number of static features = 5, number of temporal features = 5\n",
    "# number of time steps = 10, discrete feature 1 has 10 categories, discrete feature 4 has 3 categories\n",
    "\n",
    "static_with_discrete = torch.randn(1000, 5)\n",
    "static_with_discrete[:, 1] = torch.randint(0, 10, (1000,))\n",
    "static_with_discrete[:, 4] = torch.randint(0, 3, (1000,))\n",
    "\n",
    "static_without_discrete = torch.randn(1000, 5)\n",
    "\n",
    "temporal_with_discrete = torch.randn(1000, 10, 5)\n",
    "temporal_with_discrete[:, :, 1] = torch.randint(0, 10, (1000, 10))\n",
    "temporal_with_discrete[:, :, 4] = torch.randint(0, 3, (1000, 10))\n",
    "\n",
    "temporal_without_discrete = torch.randn(1000, 10, 5)\n",
    "\n",
    "synthetic_static_with_discrete = torch.randn(1000, 5)\n",
    "synthetic_static_with_discrete[:, 1] = torch.randint(0, 10, (1000,))\n",
    "synthetic_static_with_discrete[:, 4] = torch.randint(0, 3, (1000,))\n",
    "\n",
    "synthetic_static_without_discrete = torch.randn(1000, 5)\n",
    "\n",
    "synthetic_temporal_with_discrete = torch.randn(1000, 10, 5)\n",
    "synthetic_temporal_with_discrete[:, :, 1] = torch.randint(0, 10, (1000, 10))\n",
    "synthetic_temporal_with_discrete[:, :, 4] = torch.randint(0, 3, (1000, 10))\n",
    "\n",
    "synthetic_temporal_without_discrete = torch.randn(1000, 10, 5)"
   ]
  },
  {
   "cell_type": "code",
   "execution_count": 4,
   "metadata": {},
   "outputs": [
    {
     "name": "stdout",
     "output_type": "stream",
     "text": [
      "mean reduction: tensor(0.9606)\n",
      "sum reduction: tensor(24.0140)\n",
      "no reduction: (tensor([[0.9790, 0.9610, 0.9510, 0.9450, 0.9660],\n",
      "        [0.9610, 0.9670, 0.9650, 0.9440, 0.9540],\n",
      "        [0.9670, 0.9620, 0.9620, 0.9320, 0.9550],\n",
      "        [0.9610, 0.9680, 0.9650, 0.9560, 0.9690],\n",
      "        [0.9640, 0.9610, 0.9690, 0.9660, 0.9640]]), None, None)\n"
     ]
    }
   ],
   "source": [
    "# test without static data and without discrete temporal features and with different reductions\n",
    "print(\n",
    "    \"mean reduction:\",\n",
    "    msas(\n",
    "        temporal_without_discrete,\n",
    "        synthetic_temporal_without_discrete,\n",
    "        statistics_functions,\n",
    "        reduction=\"mean\",\n",
    "    ),\n",
    ")\n",
    "\n",
    "print(\n",
    "    \"sum reduction:\",\n",
    "    msas(\n",
    "        temporal_without_discrete,\n",
    "        synthetic_temporal_without_discrete,\n",
    "        statistics_functions,\n",
    "        reduction=\"sum\",\n",
    "    ),\n",
    ")\n",
    "\n",
    "print(\n",
    "    \"no reduction:\",\n",
    "    msas(\n",
    "        temporal_without_discrete,\n",
    "        synthetic_temporal_without_discrete,\n",
    "        statistics_functions,\n",
    "        reduction=None,\n",
    "    ),\n",
    ")"
   ]
  },
  {
   "cell_type": "code",
   "execution_count": 5,
   "metadata": {},
   "outputs": [
    {
     "name": "stdout",
     "output_type": "stream",
     "text": [
      "mean reduction: tensor(0.9603)\n",
      "sum reduction: tensor(16.3217)\n",
      "no reduction: (tensor([[0.9640, 0.9720, 0.9590],\n",
      "        [0.9730, 0.9650, 0.9490],\n",
      "        [0.9610, 0.9410, 0.9750],\n",
      "        [0.9610, 0.9540, 0.9490],\n",
      "        [0.9580, 0.9590, 0.9590]]), tensor([0.9604, 0.9623]), None)\n"
     ]
    }
   ],
   "source": [
    "# test without static data and with discrete temporal features and with different reductions\n",
    "print(\n",
    "    \"mean reduction:\",\n",
    "    msas(\n",
    "        temporal_with_discrete,\n",
    "        synthetic_temporal_with_discrete,\n",
    "        statistics_functions,\n",
    "        discrete_temporal_features_indices=torch.LongTensor([1, 4]),\n",
    "        discrete_temporal_features_num_categories=torch.LongTensor([10, 3]),\n",
    "        reduction=\"mean\",\n",
    "    ),\n",
    ")\n",
    "\n",
    "print(\n",
    "    \"sum reduction:\",\n",
    "    msas(\n",
    "        temporal_with_discrete,\n",
    "        synthetic_temporal_with_discrete,\n",
    "        statistics_functions,\n",
    "        discrete_temporal_features_indices=torch.LongTensor([1, 4]),\n",
    "        discrete_temporal_features_num_categories=torch.LongTensor([10, 3]),\n",
    "        reduction=\"sum\",\n",
    "    ),\n",
    ")\n",
    "\n",
    "print(\n",
    "    \"no reduction:\",\n",
    "    msas(\n",
    "        temporal_with_discrete,\n",
    "        synthetic_temporal_with_discrete,\n",
    "        statistics_functions,\n",
    "        discrete_temporal_features_indices=torch.LongTensor([1, 4]),\n",
    "        discrete_temporal_features_num_categories=torch.LongTensor([10, 3]),\n",
    "        reduction=None,\n",
    "    ),\n",
    ")"
   ]
  },
  {
   "cell_type": "code",
   "execution_count": 6,
   "metadata": {},
   "outputs": [
    {
     "name": "stdout",
     "output_type": "stream",
     "text": [
      "mean reduction: tensor(0.9643)\n",
      "sum reduction: tensor(14.4270)\n",
      "no reduction: (tensor([[0.9790, 0.9610, 0.9510, 0.9450, 0.9660],\n",
      "        [0.9610, 0.9670, 0.9650, 0.9440, 0.9540],\n",
      "        [0.9670, 0.9620, 0.9620, 0.9320, 0.9550],\n",
      "        [0.9610, 0.9680, 0.9650, 0.9560, 0.9690],\n",
      "        [0.9640, 0.9610, 0.9690, 0.9660, 0.9640]]), None, tensor([0.9560, 0.9670, 0.9740, 0.9760, 0.9670]))\n"
     ]
    }
   ],
   "source": [
    "# test with static data and temporal data without discrete features and with different reductions\n",
    "\n",
    "print(\n",
    "    \"mean reduction:\",\n",
    "    msas(\n",
    "        temporal_without_discrete,\n",
    "        synthetic_temporal_without_discrete,\n",
    "        statistics_functions,\n",
    "        real_static_data=static_without_discrete,\n",
    "        synthetic_static_data=synthetic_static_without_discrete,\n",
    "        reduction=\"mean\",\n",
    "    ),\n",
    ")\n",
    "\n",
    "print(\n",
    "    \"sum reduction:\",\n",
    "    msas(\n",
    "        temporal_without_discrete,\n",
    "        synthetic_temporal_without_discrete,\n",
    "        statistics_functions,\n",
    "        real_static_data=static_without_discrete,\n",
    "        synthetic_static_data=synthetic_static_without_discrete,\n",
    "        reduction=\"sum\",\n",
    "    ),\n",
    ")\n",
    "\n",
    "print(\n",
    "    \"no reduction:\",\n",
    "    msas(\n",
    "        temporal_without_discrete,\n",
    "        synthetic_temporal_without_discrete,\n",
    "        statistics_functions,\n",
    "        real_static_data=static_without_discrete,\n",
    "        synthetic_static_data=synthetic_static_without_discrete,\n",
    "        reduction=None,\n",
    "    ),\n",
    ")"
   ]
  },
  {
   "cell_type": "code",
   "execution_count": 7,
   "metadata": {},
   "outputs": [
    {
     "name": "stdout",
     "output_type": "stream",
     "text": [
      "mean reduction: tensor(0.9583)\n",
      "sum reduction: tensor(10.5515)\n",
      "no reduction: (tensor([[0.9640, 0.9720, 0.9590],\n",
      "        [0.9730, 0.9650, 0.9490],\n",
      "        [0.9610, 0.9410, 0.9750],\n",
      "        [0.9610, 0.9540, 0.9490],\n",
      "        [0.9580, 0.9590, 0.9590]]), tensor([0.9604, 0.9623]), tensor([0.9420, 0.9640, 0.9550, 0.9740, 0.9463]))\n"
     ]
    }
   ],
   "source": [
    "# test with static data and temporal data with discrete features and with different reductions\n",
    "\n",
    "print(\n",
    "    \"mean reduction:\",\n",
    "    msas(\n",
    "        temporal_with_discrete,\n",
    "        synthetic_temporal_with_discrete,\n",
    "        statistics_functions,\n",
    "        discrete_temporal_features_indices=torch.LongTensor([1, 4]),\n",
    "        discrete_temporal_features_num_categories=torch.LongTensor([10, 3]),\n",
    "        real_static_data=static_with_discrete,\n",
    "        synthetic_static_data=synthetic_static_with_discrete,\n",
    "        discrete_static_features_indices=torch.LongTensor([1, 4]),\n",
    "        discrete_static_features_num_categories=torch.LongTensor([10, 3]),\n",
    "        reduction=\"mean\",\n",
    "    ),\n",
    ")\n",
    "\n",
    "print(\n",
    "    \"sum reduction:\",\n",
    "    msas(\n",
    "        temporal_with_discrete,\n",
    "        synthetic_temporal_with_discrete,\n",
    "        statistics_functions,\n",
    "        discrete_temporal_features_indices=torch.LongTensor([1, 4]),\n",
    "        discrete_temporal_features_num_categories=torch.LongTensor([10, 3]),\n",
    "        real_static_data=static_with_discrete,\n",
    "        synthetic_static_data=synthetic_static_with_discrete,\n",
    "        discrete_static_features_indices=torch.LongTensor([1, 4]),\n",
    "        discrete_static_features_num_categories=torch.LongTensor([10, 3]),\n",
    "        reduction=\"sum\",\n",
    "    ),\n",
    ")\n",
    "\n",
    "print(\n",
    "    \"no reduction:\",\n",
    "    msas(\n",
    "        temporal_with_discrete,\n",
    "        synthetic_temporal_with_discrete,\n",
    "        statistics_functions,\n",
    "        discrete_temporal_features_indices=torch.LongTensor([1, 4]),\n",
    "        discrete_temporal_features_num_categories=torch.LongTensor([10, 3]),\n",
    "        real_static_data=static_with_discrete,\n",
    "        synthetic_static_data=synthetic_static_with_discrete,\n",
    "        discrete_static_features_indices=torch.LongTensor([1, 4]),\n",
    "        discrete_static_features_num_categories=torch.LongTensor([10, 3]),\n",
    "        reduction=None,\n",
    "    ),\n",
    ")"
   ]
  }
 ],
 "metadata": {
  "kernelspec": {
   "display_name": "msas",
   "language": "python",
   "name": "python3"
  },
  "language_info": {
   "codemirror_mode": {
    "name": "ipython",
    "version": 3
   },
   "file_extension": ".py",
   "mimetype": "text/x-python",
   "name": "python",
   "nbconvert_exporter": "python",
   "pygments_lexer": "ipython3",
   "version": "3.8.16"
  },
  "orig_nbformat": 4
 },
 "nbformat": 4,
 "nbformat_minor": 2
}
