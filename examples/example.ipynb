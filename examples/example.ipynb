{
 "cells": [
  {
   "cell_type": "code",
   "execution_count": 1,
   "metadata": {},
   "outputs": [],
   "source": [
    "from msas_pytorch import msas\n",
    "import torch"
   ]
  },
  {
   "cell_type": "code",
   "execution_count": 2,
   "metadata": {},
   "outputs": [],
   "source": [
    "# let's define some statistics functions\n",
    "\n",
    "statistics_functions = [torch.mean, torch.std, torch.median, torch.max, torch.min]"
   ]
  },
  {
   "cell_type": "code",
   "execution_count": 3,
   "metadata": {},
   "outputs": [],
   "source": [
    "# and generated with random numbers simulated real and synthetic data\n",
    "\n",
    "# both temporal and static, with both discrete and continuous features\n",
    "# sample size = 100, number of static features = 5, number of temporal features = 5\n",
    "# number of time steps = 10, discrete feature 1 has 10 categories, discrete feature 4 has 3 categories\n",
    "\n",
    "static_with_discrete = torch.randn(100, 5)\n",
    "static_with_discrete[:, 1] = torch.randint(0, 10, (100,))\n",
    "static_with_discrete[:, 4] = torch.randint(0, 3, (100,))\n",
    "\n",
    "static_without_discrete = torch.randn(100, 5)\n",
    "\n",
    "temporal_with_discrete = torch.randn(100, 10, 5)\n",
    "temporal_with_discrete[:, :, 1] = torch.randint(0, 10, (100, 10))\n",
    "temporal_with_discrete[:, :, 4] = torch.randint(0, 3, (100, 10))\n",
    "\n",
    "temporal_without_discrete = torch.randn(100, 10, 5)\n",
    "\n",
    "synthetic_static_with_discrete = torch.randn(100, 5)\n",
    "synthetic_static_with_discrete[:, 1] = torch.randint(0, 10, (100,))\n",
    "synthetic_static_with_discrete[:, 4] = torch.randint(0, 3, (100,))\n",
    "\n",
    "synthetic_static_without_discrete = torch.randn(100, 5)\n",
    "\n",
    "synthetic_temporal_with_discrete = torch.randn(100, 10, 5)\n",
    "synthetic_temporal_with_discrete[:, :, 1] = torch.randint(0, 10, (100, 10))\n",
    "synthetic_temporal_with_discrete[:, :, 4] = torch.randint(0, 3, (100, 10))\n",
    "\n",
    "synthetic_temporal_without_discrete = torch.randn(100, 10, 5)"
   ]
  },
  {
   "cell_type": "code",
   "execution_count": 4,
   "metadata": {},
   "outputs": [
    {
     "name": "stdout",
     "output_type": "stream",
     "text": [
      "mean reduction: tensor(0.8716)\n",
      "sum reduction: tensor(21.7900)\n",
      "no reduction: (tensor([[0.8500, 0.8700, 0.8600, 0.8500, 0.8600],\n",
      "        [0.9000, 0.8800, 0.8800, 0.8800, 0.8600],\n",
      "        [0.8400, 0.8500, 0.9300, 0.9300, 0.8500],\n",
      "        [0.9200, 0.8800, 0.8500, 0.8100, 0.7800],\n",
      "        [0.9200, 0.8900, 0.9000, 0.8800, 0.8700]]), None, None)\n"
     ]
    }
   ],
   "source": [
    "# test without static data and without discrete temporal features and with different reductions\n",
    "print(\n",
    "    \"mean reduction:\",\n",
    "    msas(\n",
    "        temporal_without_discrete,\n",
    "        synthetic_temporal_without_discrete,\n",
    "        statistics_functions,\n",
    "        reduction=\"mean\",\n",
    "    ),\n",
    ")\n",
    "\n",
    "print(\n",
    "    \"sum reduction:\",\n",
    "    msas(\n",
    "        temporal_without_discrete,\n",
    "        synthetic_temporal_without_discrete,\n",
    "        statistics_functions,\n",
    "        reduction=\"sum\",\n",
    "    ),\n",
    ")\n",
    "\n",
    "print(\n",
    "    \"no reduction:\",\n",
    "    msas(\n",
    "        temporal_without_discrete,\n",
    "        synthetic_temporal_without_discrete,\n",
    "        statistics_functions,\n",
    "        reduction=None,\n",
    "    ),\n",
    ")"
   ]
  },
  {
   "cell_type": "code",
   "execution_count": 5,
   "metadata": {},
   "outputs": [
    {
     "name": "stdout",
     "output_type": "stream",
     "text": [
      "mean reduction: tensor(0.6623)\n",
      "sum reduction: tensor(13.5695)\n",
      "no reduction: (tensor([[0.8700, 0.9000, 0.9200],\n",
      "        [0.9000, 0.9100, 0.8700],\n",
      "        [0.9000, 0.8400, 0.9000],\n",
      "        [0.9100, 0.9300, 0.9100],\n",
      "        [0.8700, 0.9000, 0.8700]]), tensor([0.0692, 0.1004]), None)\n"
     ]
    }
   ],
   "source": [
    "# test without static data and with discrete temporal features and with different reductions\n",
    "print(\n",
    "    \"mean reduction:\",\n",
    "    msas(\n",
    "        temporal_with_discrete,\n",
    "        synthetic_temporal_with_discrete,\n",
    "        statistics_functions,\n",
    "        discrete_temporal_features_indices=torch.LongTensor([1, 4]),\n",
    "        discrete_temporal_features_num_categories=torch.LongTensor([10, 3]),\n",
    "        reduction=\"mean\",\n",
    "    ),\n",
    ")\n",
    "\n",
    "print(\n",
    "    \"sum reduction:\",\n",
    "    msas(\n",
    "        temporal_with_discrete,\n",
    "        synthetic_temporal_with_discrete,\n",
    "        statistics_functions,\n",
    "        discrete_temporal_features_indices=torch.LongTensor([1, 4]),\n",
    "        discrete_temporal_features_num_categories=torch.LongTensor([10, 3]),\n",
    "        reduction=\"sum\",\n",
    "    ),\n",
    ")\n",
    "\n",
    "print(\n",
    "    \"no reduction:\",\n",
    "    msas(\n",
    "        temporal_with_discrete,\n",
    "        synthetic_temporal_with_discrete,\n",
    "        statistics_functions,\n",
    "        discrete_temporal_features_indices=torch.LongTensor([1, 4]),\n",
    "        discrete_temporal_features_num_categories=torch.LongTensor([10, 3]),\n",
    "        reduction=None,\n",
    "    ),\n",
    ")"
   ]
  },
  {
   "cell_type": "code",
   "execution_count": 6,
   "metadata": {},
   "outputs": [
    {
     "name": "stdout",
     "output_type": "stream",
     "text": [
      "mean reduction: tensor(0.8858)\n",
      "sum reduction: tensor(13.1450)\n",
      "no reduction: (tensor([[0.8500, 0.8700, 0.8600, 0.8500, 0.8600],\n",
      "        [0.9000, 0.8800, 0.8800, 0.8800, 0.8600],\n",
      "        [0.8400, 0.8500, 0.9300, 0.9300, 0.8500],\n",
      "        [0.9200, 0.8800, 0.8500, 0.8100, 0.7800],\n",
      "        [0.9200, 0.8900, 0.9000, 0.8800, 0.8700]]), None, tensor([0.9400, 0.9100, 0.8400, 0.8800, 0.9300]))\n"
     ]
    }
   ],
   "source": [
    "# test with static data and temporal data without discrete features and with different reductions\n",
    "\n",
    "print(\n",
    "    \"mean reduction:\",\n",
    "    msas(\n",
    "        temporal_without_discrete,\n",
    "        synthetic_temporal_without_discrete,\n",
    "        statistics_functions,\n",
    "        real_static_data=static_without_discrete,\n",
    "        synthetic_static_data=synthetic_static_without_discrete,\n",
    "        reduction=\"mean\",\n",
    "    ),\n",
    ")\n",
    "\n",
    "print(\n",
    "    \"sum reduction:\",\n",
    "    msas(\n",
    "        temporal_without_discrete,\n",
    "        synthetic_temporal_without_discrete,\n",
    "        statistics_functions,\n",
    "        real_static_data=static_without_discrete,\n",
    "        synthetic_static_data=synthetic_static_without_discrete,\n",
    "        reduction=\"sum\",\n",
    "    ),\n",
    ")\n",
    "\n",
    "print(\n",
    "    \"no reduction:\",\n",
    "    msas(\n",
    "        temporal_without_discrete,\n",
    "        synthetic_temporal_without_discrete,\n",
    "        statistics_functions,\n",
    "        real_static_data=static_without_discrete,\n",
    "        synthetic_static_data=synthetic_static_without_discrete,\n",
    "        reduction=None,\n",
    "    ),\n",
    ")"
   ]
  },
  {
   "cell_type": "code",
   "execution_count": 7,
   "metadata": {},
   "outputs": [
    {
     "name": "stdout",
     "output_type": "stream",
     "text": [
      "mean reduction: tensor(0.6196)\n",
      "sum reduction: tensor(8.2269)\n",
      "no reduction: (tensor([[0.8700, 0.9000, 0.9200],\n",
      "        [0.9000, 0.9100, 0.8700],\n",
      "        [0.9000, 0.8400, 0.9000],\n",
      "        [0.9100, 0.9300, 0.9100],\n",
      "        [0.8700, 0.9000, 0.8700]]), tensor([0.0692, 0.1004]), tensor([0.9300, 0.1017, 0.9400, 0.8500, 0.0626]))\n"
     ]
    }
   ],
   "source": [
    "# test with static data and temporal data with discrete features and with different reductions\n",
    "\n",
    "print(\n",
    "    \"mean reduction:\",\n",
    "    msas(\n",
    "        temporal_with_discrete,\n",
    "        synthetic_temporal_with_discrete,\n",
    "        statistics_functions,\n",
    "        discrete_temporal_features_indices=torch.LongTensor([1, 4]),\n",
    "        discrete_temporal_features_num_categories=torch.LongTensor([10, 3]),\n",
    "        real_static_data=static_with_discrete,\n",
    "        synthetic_static_data=synthetic_static_with_discrete,\n",
    "        discrete_static_features_indices=torch.LongTensor([1, 4]),\n",
    "        discrete_static_features_num_categories=torch.LongTensor([10, 3]),\n",
    "        reduction=\"mean\",\n",
    "    ),\n",
    ")\n",
    "\n",
    "print(\n",
    "    \"sum reduction:\",\n",
    "    msas(\n",
    "        temporal_with_discrete,\n",
    "        synthetic_temporal_with_discrete,\n",
    "        statistics_functions,\n",
    "        discrete_temporal_features_indices=torch.LongTensor([1, 4]),\n",
    "        discrete_temporal_features_num_categories=torch.LongTensor([10, 3]),\n",
    "        real_static_data=static_with_discrete,\n",
    "        synthetic_static_data=synthetic_static_with_discrete,\n",
    "        discrete_static_features_indices=torch.LongTensor([1, 4]),\n",
    "        discrete_static_features_num_categories=torch.LongTensor([10, 3]),\n",
    "        reduction=\"sum\",\n",
    "    ),\n",
    ")\n",
    "\n",
    "print(\n",
    "    \"no reduction:\",\n",
    "    msas(\n",
    "        temporal_with_discrete,\n",
    "        synthetic_temporal_with_discrete,\n",
    "        statistics_functions,\n",
    "        discrete_temporal_features_indices=torch.LongTensor([1, 4]),\n",
    "        discrete_temporal_features_num_categories=torch.LongTensor([10, 3]),\n",
    "        real_static_data=static_with_discrete,\n",
    "        synthetic_static_data=synthetic_static_with_discrete,\n",
    "        discrete_static_features_indices=torch.LongTensor([1, 4]),\n",
    "        discrete_static_features_num_categories=torch.LongTensor([10, 3]),\n",
    "        reduction=None,\n",
    "    ),\n",
    ")"
   ]
  }
 ],
 "metadata": {
  "kernelspec": {
   "display_name": "msas",
   "language": "python",
   "name": "python3"
  },
  "language_info": {
   "codemirror_mode": {
    "name": "ipython",
    "version": 3
   },
   "file_extension": ".py",
   "mimetype": "text/x-python",
   "name": "python",
   "nbconvert_exporter": "python",
   "pygments_lexer": "ipython3",
   "version": "3.8.16"
  },
  "orig_nbformat": 4
 },
 "nbformat": 4,
 "nbformat_minor": 2
}
